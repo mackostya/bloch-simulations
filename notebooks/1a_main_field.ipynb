{
 "cells": [
  {
   "cell_type": "markdown",
   "metadata": {},
   "source": [
    "Magnteic Field $B_0$ in the coil\n",
    "$$B=\\mu I N L^{-1} \\newline\n",
    "    I -  \\text{Current } [A]\\newline\n",
    "    N - \\text{Number of turns } [m]\\newline\n",
    "    L - \\text{Solenoid length }  [m]\\newline\n",
    "    \\mu - \\text{Permeablity } [T\\cdot m\\cdot A^{-1}] $$"
   ]
  },
  {
   "cell_type": "code",
   "execution_count": 1,
   "metadata": {},
   "outputs": [
    {
     "name": "stdout",
     "output_type": "stream",
     "text": [
      "1.48T inside the solenoid\n"
     ]
    }
   ],
   "source": [
    "from scipy.constants import mu_0\n",
    "\n",
    "def B(I,N,L):\n",
    "    return mu_0*I*N/L\n",
    "    \n",
    "I = 500\n",
    "N = 2350\n",
    "L = 1\n",
    "\n",
    "print(f\"{B(I,N,L):.2f}T inside the solenoid\")"
   ]
  }
 ],
 "metadata": {
  "kernelspec": {
   "display_name": "opt",
   "language": "python",
   "name": "python3"
  },
  "language_info": {
   "codemirror_mode": {
    "name": "ipython",
    "version": 3
   },
   "file_extension": ".py",
   "mimetype": "text/x-python",
   "name": "python",
   "nbconvert_exporter": "python",
   "pygments_lexer": "ipython3",
   "version": "3.11.11"
  }
 },
 "nbformat": 4,
 "nbformat_minor": 2
}

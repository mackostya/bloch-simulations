{
 "cells": [
  {
   "cell_type": "markdown",
   "metadata": {},
   "source": [
    "# RF pulse\n",
    "Hard RF pulse\n",
    "- Short duration (high BW)\n",
    "- High in aplitude (high Power)\n",
    "- Eiter a weak gradient or no gradient\n",
    "\n",
    "\n",
    "$$\n",
    "B_1^e(t) = B_1 \\sqcap \\big( \\frac{t - \\tau_{RF} / 2}{\\tau_{RF}}\\big) = B1, \\text{ when } t \\subset [0, \\tau_{RF}]\n",
    "$$\n",
    "\n",
    "$$\n",
    "\\alpha = \\gamma B_1 \\tau_{RF} - \\text{ flip angle}\n",
    "$$"
   ]
  },
  {
   "cell_type": "code",
   "execution_count": 10,
   "metadata": {},
   "outputs": [
    {
     "name": "stdout",
     "output_type": "stream",
     "text": [
      " Pulse duration: 234.87 microseconds\n"
     ]
    }
   ],
   "source": [
    "from scipy.constants import pi\n",
    "\n",
    "gamma_bar = 42.576e6\n",
    "\n",
    "def tau(alpha, B1):\n",
    "    return alpha / (gamma_bar * 2 * pi * B1)\n",
    "\n",
    "B1 = 25e-6\n",
    "alpha = pi/2\n",
    "\n",
    "print(fr\" Pulse duration: {tau(alpha, B1)*1e6:.2f} microseconds\")"
   ]
  }
 ],
 "metadata": {
  "kernelspec": {
   "display_name": "opt",
   "language": "python",
   "name": "python3"
  },
  "language_info": {
   "codemirror_mode": {
    "name": "ipython",
    "version": 3
   },
   "file_extension": ".py",
   "mimetype": "text/x-python",
   "name": "python",
   "nbconvert_exporter": "python",
   "pygments_lexer": "ipython3",
   "version": "3.11.11"
  }
 },
 "nbformat": 4,
 "nbformat_minor": 2
}

{
 "cells": [
  {
   "cell_type": "markdown",
   "metadata": {},
   "source": [
    "# Matrix Propagation\n",
    "\n",
    "### Rotations / Relaxation:\n",
    "$$\n",
    "M' = AM + B\n",
    "$$\n",
    "\n",
    "- $M_1 = A_1 M_0 + B_1$  (where $M_0$ is the starting magnetization, not the equilibrium magnetization $M$!)\n",
    "- $M_2 = A_2 M_1 + B_2 \\quad \\dots \\quad M_n$  (n \"operations\")\n",
    "- **Propagation:** Multiply matrices $A$, sum vectors $B$ after multiplying by all successive $A$ matrices.\n",
    "\n",
    "### Example Propagation:\n",
    "$$\n",
    "M_2 = (A_2 A_1) M_0 + A_2 B_1 + B_2\n",
    "$$\n",
    "\n",
    "### General Expressions for Propagated Matrices:\n",
    "$$\n",
    "A = \\prod_{i=n}^{1} A_i\n",
    "$$\n",
    "\n",
    "$$\n",
    "B = \\sum_{i=1}^{n} \\left( \\prod_{j=n}^{i} A_j \\right) B_i\n",
    "$$\n"
   ]
  },
  {
   "cell_type": "markdown",
   "metadata": {},
   "source": [
    "# Alternative \"Homogeneous\" 4x4 Matrices\n",
    "\n",
    "- **Eliminate the additive \"B\" vector**\n",
    "\n",
    "### New Model:\n",
    "$$\n",
    "M_{4 \\times 4} =\n",
    "\\begin{bmatrix}\n",
    "M_x \\\\\n",
    "M_y \\\\\n",
    "M_z \\\\\n",
    "1\n",
    "\\end{bmatrix}\n",
    "$$\n",
    "\n",
    "### Simple Relationship for All Operators:\n",
    "$$\n",
    "A_{4 \\times 4} =\n",
    "\\begin{bmatrix}\n",
    "A_{3 \\times 3} & B_{3 \\times 1} \\\\\n",
    "0 & 1\n",
    "\\end{bmatrix}\n",
    "$$\n",
    "\n",
    "- **Rotations are block-diagonal**\n",
    "- **Relaxation is now a simple multiplication**\n"
   ]
  },
  {
   "cell_type": "markdown",
   "metadata": {},
   "source": [
    "# Complex M Vector Format\n",
    "\n",
    "- **So far we simply use a real-valued vector:**\n",
    "  $$\n",
    "  M_r =\n",
    "  \\begin{bmatrix}\n",
    "  M_x \\\\\n",
    "  M_y \\\\\n",
    "  M_z\n",
    "  \\end{bmatrix}\n",
    "  $$\n",
    "\n",
    "- **Advantages to a complex vector:**\n",
    "  - Complex signal is simply the first row.\n",
    "  - Easy to apply gradient-induced phase to $M_{xy}$.\n",
    "  - Can express rotation and relaxation.\n",
    "  - Simple transformation.\n",
    "\n",
    "- **Complex vector representation:**\n",
    "  $$\n",
    "  M_c =\n",
    "  \\begin{bmatrix}\n",
    "  M_x + i M_y \\\\\n",
    "  M_x - i M_y \\\\\n",
    "  M_z\n",
    "  \\end{bmatrix}\n",
    "  $$\n",
    "\n",
    "- **Transformation from real to complex vector:**\n",
    "  $$\n",
    "  M_c = T M_r = \n",
    "  \\begin{bmatrix}\n",
    "  1 & i & 0 \\\\\n",
    "  1 & -i & 0 \\\\\n",
    "  0 & 0 & 1\n",
    "  \\end{bmatrix}\n",
    "  M_r\n",
    "  $$\n",
    "\n",
    "- **Inverse transformation from complex to real vector:**\n",
    "  $$\n",
    "  M_r = T^{-1} M_c =\n",
    "  \\begin{bmatrix}\n",
    "  0.5 & 0.5 & 0 \\\\\n",
    "  -0.5i & 0.5i & 0 \\\\\n",
    "  0 & 0 & 1\n",
    "  \\end{bmatrix}\n",
    "  M_c\n",
    "  $$\n"
   ]
  },
  {
   "cell_type": "code",
   "execution_count": null,
   "metadata": {},
   "outputs": [],
   "source": [
    "import os\n",
    "import sys\n",
    "sys.path.append(os.path.join('..'))\n",
    "import numpy as np\n",
    "import matplotlib.pyplot as plt\n",
    "from matplotlib import colormaps\n",
    "from src import utils, visualizations as vis"
   ]
  },
  {
   "cell_type": "markdown",
   "metadata": {},
   "source": [
    "Initialize the magnetization along z axis to be in the x direction for all spins"
   ]
  },
  {
   "cell_type": "code",
   "execution_count": 8,
   "metadata": {},
   "outputs": [],
   "source": [
    "z = np.arange(-1,1,0.05)\n",
    "M = np.array([np.ones(len(z)), z*0, z*0]).T\n",
    "\n",
    "ph = np.exp(np.pi * 1j * z)\n",
    "phmult = np.array([ph, np.conj(ph), 0*ph]).T"
   ]
  },
  {
   "cell_type": "markdown",
   "metadata": {},
   "source": [
    "Rotation operation in complex numbers"
   ]
  },
  {
   "cell_type": "code",
   "execution_count": 9,
   "metadata": {},
   "outputs": [],
   "source": [
    "M2 = utils.mc2mr(phmult * utils.mr2mc(M))"
   ]
  },
  {
   "cell_type": "markdown",
   "metadata": {},
   "source": [
    "Visualize"
   ]
  },
  {
   "cell_type": "code",
   "execution_count": null,
   "metadata": {},
   "outputs": [],
   "source": [
    "vis.plotM(M2, z)"
   ]
  }
 ],
 "metadata": {
  "kernelspec": {
   "display_name": "opt",
   "language": "python",
   "name": "python3"
  },
  "language_info": {
   "codemirror_mode": {
    "name": "ipython",
    "version": 3
   },
   "file_extension": ".py",
   "mimetype": "text/x-python",
   "name": "python",
   "nbconvert_exporter": "python",
   "pygments_lexer": "ipython3",
   "version": "3.11.11"
  }
 },
 "nbformat": 4,
 "nbformat_minor": 2
}

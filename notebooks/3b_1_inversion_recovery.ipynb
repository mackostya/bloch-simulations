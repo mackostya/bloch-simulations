{
 "cells": [
  {
   "cell_type": "markdown",
   "metadata": {},
   "source": [
    "# Sequence Operations: Review\n",
    "\n",
    "### Sequence blocks are simple matrix operations:\n",
    "- **RF Excitation**  \n",
    "  $$\n",
    "  M' = R_{\\phi}(\\alpha, t) M\n",
    "  $$\n",
    "\n",
    "- **Gradient-induced Rotation**  \n",
    "  $$\n",
    "  M' = R_z(\\gamma \\mathbf{G}(t) \\cdot \\mathbf{r} + \\gamma \\Delta B_0) M\n",
    "  $$\n",
    "\n",
    "- **Relaxation**  \n",
    "  $$\n",
    "  M' = A(\\tau, T_1, T_2) M + B(\\tau, T_1, T_2)\n",
    "  $$\n",
    "\n",
    "### Additional Notes:\n",
    "- **Multiple spins, at different positions, can be simulated with loops.**\n"
   ]
  },
  {
   "cell_type": "markdown",
   "metadata": {},
   "source": [
    "# Steady States with 3 Components\n",
    "\n",
    "- **Propagation over 1 TR:**  \n",
    "  $$\n",
    "  M_{n+1} = A M_n + B\n",
    "  $$\n",
    "\n",
    "- **Steady State:**  \n",
    "  $$\n",
    "  M_{n+1} = M_n\n",
    "  $$\n",
    "\n",
    "- **Combine:**  \n",
    "  $$\n",
    "  M_{ss} = A M_{ss} + B \\quad = \\quad (I - A)^{-1} B\n",
    "  $$\n",
    "\n",
    "  - If there is relaxation, there is a steady state.\n"
   ]
  },
  {
   "cell_type": "markdown",
   "metadata": {},
   "source": [
    "# Transients\n",
    "\n",
    "- **Propagation over 1 TR:**  \n",
    "  $$\n",
    "  M_{n+1} = A M_n + B\n",
    "  $$\n",
    "\n",
    "- **Steady State:**  \n",
    "  $$\n",
    "  M_{ss} = A M_{ss} + B\n",
    "  $$\n",
    "\n",
    "- **Transient:**  \n",
    "  $$\n",
    "  M_{n+1} - M_{ss} = A (M_n - M_{ss}) = A^{n+1} (M_0 - M_{ss})\n",
    "  $$\n",
    "\n",
    "- **Eigenvector decomposition:**  \n",
    "  $$\n",
    "  A = V \\Lambda V^{-1}\n",
    "  $$\n",
    "\n",
    "- **Write:**  \n",
    "  $$\n",
    "  M_{n+1} - M_{ss} = V \\Lambda^{n+1} V^{-1} (M_0 - M_{ss})\n",
    "  $$\n"
   ]
  },
  {
   "cell_type": "code",
   "execution_count": 42,
   "metadata": {},
   "outputs": [],
   "source": [
    "%reload_ext autoreload\n",
    "%autoreload 2\n",
    "\n",
    "import os\n",
    "import sys\n",
    "sys.path.append(os.path.join('..'))\n",
    "import numpy as np\n",
    "from scipy.spatial.transform import Rotation as R\n",
    "from src import utils"
   ]
  },
  {
   "cell_type": "markdown",
   "metadata": {},
   "source": [
    "![image.png](../imgs/short_tr_ir_signal.png)"
   ]
  },
  {
   "cell_type": "markdown",
   "metadata": {},
   "source": [
    "# Inversion Recovery Sequence\n",
    "\n",
    "- **TR = 1s, TI = 0.5s, TE = 50ms**\n",
    "- **What is the signal for** $T_1 = 0.5s$, $T_2 = 100ms$?\n",
    "\n",
    "### **\"Operations\"**\n",
    "- $M_{180} = R_x(180) M_{TR}$\n",
    "- $M_{90} = R_x(90) E(0.5s) M_{180}$\n",
    "- $M_{TE} = E(0.05s) M_{90}$\n",
    "- $M_{TR} = E(0.45s) = 1 - 0.5 - 0.05s) M_{TE}$\n"
   ]
  },
  {
   "cell_type": "code",
   "execution_count": 5,
   "metadata": {},
   "outputs": [],
   "source": [
    "T1 = 0.5\n",
    "T2 = 0.1\n",
    "\n",
    "def E1(t):\n",
    "    return np.exp(-t/T1)\n",
    "\n",
    "def E2(t):\n",
    "    return np.exp(-t/T2)"
   ]
  },
  {
   "cell_type": "code",
   "execution_count": 25,
   "metadata": {},
   "outputs": [],
   "source": [
    "tau1 = 0.5\n",
    "A1 = np.diag([E2(tau1), E2(tau1), E1(tau1)]) @ utils.rot_x(-180)\n",
    "B1 = np.array([0,0,1-E1(tau1)])\n",
    "\n",
    "tau2 = 0.05\n",
    "A2 = np.diag([E2(tau2), E2(tau2), E1(tau2)]) @ utils.rot_x(-90)\n",
    "B2 = np.array([0,0,1-E1(tau2)])\n",
    "\n",
    "tau3 = 0.45\n",
    "A3 = np.diag([E2(tau3), E2(tau3), E1(tau3)])\n",
    "B3 = np.array([0,0,1-E1(tau3)])"
   ]
  },
  {
   "cell_type": "code",
   "execution_count": null,
   "metadata": {},
   "outputs": [],
   "source": [
    "A = A2 @ A1 @ A3\n",
    "B = B2 + A2 @ (B1 + A1 @ B3)\n",
    "Mss = np.linalg.inv(np.eye(3) - A) @ B\n",
    "A, B, Mss"
   ]
  },
  {
   "cell_type": "code",
   "execution_count": null,
   "metadata": {},
   "outputs": [],
   "source": [
    "utils.abprop(A3, B3, A1, B1, A2, B2)"
   ]
  }
 ],
 "metadata": {
  "kernelspec": {
   "display_name": "opt",
   "language": "python",
   "name": "python3"
  },
  "language_info": {
   "codemirror_mode": {
    "name": "ipython",
    "version": 3
   },
   "file_extension": ".py",
   "mimetype": "text/x-python",
   "name": "python",
   "nbconvert_exporter": "python",
   "pygments_lexer": "ipython3",
   "version": "3.11.11"
  }
 },
 "nbformat": 4,
 "nbformat_minor": 2
}

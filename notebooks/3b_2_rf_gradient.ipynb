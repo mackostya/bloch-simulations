{
 "cells": [
  {
   "cell_type": "code",
   "execution_count": null,
   "metadata": {},
   "outputs": [],
   "source": [
    "%reload_ext autoreload\n",
    "%autoreload 2\n",
    "# %matplotlib widget\n",
    "\n",
    "import os\n",
    "import sys\n",
    "sys.path.append(os.path.join('..'))\n",
    "import numpy as np\n",
    "import matplotlib.pyplot as plt\n",
    "from scipy.spatial.transform import Rotation as R\n",
    "from src import utils\n",
    "from src import visualizations as vis\n",
    "\n",
    "from matplotlib.widgets import Slider\n",
    "import matplotlib.animation as animation\n",
    "from matplotlib import colormaps\n",
    "\n",
    "\n",
    "os.makedirs('../outputs', exist_ok=True)"
   ]
  },
  {
   "cell_type": "markdown",
   "metadata": {},
   "source": [
    "Initialize the spins in z direction"
   ]
  },
  {
   "cell_type": "code",
   "execution_count": null,
   "metadata": {},
   "outputs": [],
   "source": [
    "Nrf = 100 # points\n",
    "TB = 4 # Time x Bandwidth\n",
    "\n",
    "z = np.arange(-1,1,0.05)\n",
    "M = np.array([z*0, z*0, np.ones(len(z))]).T"
   ]
  },
  {
   "cell_type": "markdown",
   "metadata": {},
   "source": [
    "Create a RF-Pulse"
   ]
  },
  {
   "cell_type": "code",
   "execution_count": null,
   "metadata": {},
   "outputs": [],
   "source": [
    "rf = utils.msinc(Nrf, TB / 4)\n",
    "rf = rf * 90/ np.sum(rf)"
   ]
  },
  {
   "cell_type": "code",
   "execution_count": null,
   "metadata": {},
   "outputs": [],
   "source": [
    "fig, axs = plt.subplots(1, figsize=(7,3))\n",
    "axs.plot(rf, linewidth=4)\n",
    "axs.set_title(\"RF Pulse\", fontsize=18)\n",
    "axs.set_xlabel(\"Time\", fontsize=16)\n",
    "axs.set_ylabel(\"Amplitude\", fontsize=16)"
   ]
  },
  {
   "cell_type": "markdown",
   "metadata": {},
   "source": [
    "Initialize different phase shifts depending on z position of the spin"
   ]
  },
  {
   "cell_type": "code",
   "execution_count": null,
   "metadata": {},
   "outputs": [],
   "source": [
    "phase = np.exp(np.pi*1j*z*TB*3/Nrf)\n",
    "phmult = np.array([phase, np.conj(phase), np.ones(len(phase))]).T"
   ]
  },
  {
   "cell_type": "code",
   "execution_count": null,
   "metadata": {},
   "outputs": [],
   "source": [
    "Mc = utils.mr2mc(M)\n",
    "\n",
    "# transformation from real to complex\n",
    "T = np.array([[1, 1j, 0], [1, -1j, 0], [0, 0, 1]])\n",
    "\n",
    "# transformation to Mxy\n",
    "Txy = np.array([[1, 0, 0], [0, 1, 0], [0, 0, 0]])"
   ]
  },
  {
   "cell_type": "code",
   "execution_count": null,
   "metadata": {},
   "outputs": [],
   "source": [
    "Mrs = []\n",
    "for k in range(Nrf):\n",
    "    R = T @ utils.rot_y(rf[k]) @ np.linalg.inv(T) # rotation in complex domain\n",
    "    \n",
    "    # rotate the magnetization by the amplitude of the RF pulse\n",
    "    # apply the phase indeuced by the gradient field of the slice\n",
    "    Mc = phmult * (R @ Mc.T).T \n",
    "    \n",
    "    Mxy = (Txy @ utils.mc2mr(Mc).T).T\n",
    "\n",
    "    # Mrs.append(Mxy)\n",
    "    # or for z component\n",
    "    Mrs.append(utils.mc2mr(Mc))"
   ]
  },
  {
   "cell_type": "markdown",
   "metadata": {},
   "source": [
    "#### Gif view"
   ]
  },
  {
   "cell_type": "code",
   "execution_count": null,
   "metadata": {},
   "outputs": [],
   "source": [
    "\n",
    "num_frames = len(Mrs)\n",
    "# Set up figure\n",
    "fig, axs = plt.subplots(1, 2, figsize=(8, 4))\n",
    "\n",
    "\n",
    "# Animation function\n",
    "def update(frame):\n",
    "    vis.plotM_animated(axs, Mrs[frame], z)\n",
    "    fig.tight_layout()\n",
    "    fig.suptitle(f\"Bloch Simulation: Slice Selection (frame {frame+1}/{num_frames})\")\n",
    "    \n",
    "\n",
    "# Create animation\n",
    "ani = animation.FuncAnimation(fig, update, frames=num_frames, repeat=False)\n",
    "\n",
    "# Save as GIF\n",
    "ani.save(\"../outputs/magnetic_moments.gif\", writer=\"pillow\", fps=10)\n",
    "# # Save as Mp4\n",
    "# ani.save(\"../outputs/magnetic_moments.mp4\", writer=\"ffmpeg\", fps=10)"
   ]
  },
  {
   "cell_type": "markdown",
   "metadata": {},
   "source": [
    "#### Slider view"
   ]
  },
  {
   "cell_type": "code",
   "execution_count": null,
   "metadata": {},
   "outputs": [],
   "source": [
    "num_frames = len(Mrs)\n",
    "# Set up figure\n",
    "fig, axs = plt.subplots(1, 2, figsize=(8, 4))\n",
    "ax_slider = plt.axes([0.2, 0.02, 0.6, 0.03], facecolor='lightgoldenrodyellow')\n",
    "slider = Slider(ax_slider, 'Frame', 0, 99, valinit=0, valstep=1)\n",
    "\n",
    "# Animation function\n",
    "def update(frame):\n",
    "    frame = slider.val\n",
    "    vis.plotM_animated(axs, Mrs[frame], z)\n",
    "    fig.suptitle(f\"Frame {frame+1}/{num_frames}\")\n",
    "\n",
    "# Connect the slider to the update function\n",
    "slider.on_changed(update)\n",
    "plt.show()"
   ]
  }
 ],
 "metadata": {
  "kernelspec": {
   "display_name": "opt",
   "language": "python",
   "name": "python3"
  },
  "language_info": {
   "codemirror_mode": {
    "name": "ipython",
    "version": 3
   },
   "file_extension": ".py",
   "mimetype": "text/x-python",
   "name": "python",
   "nbconvert_exporter": "python",
   "pygments_lexer": "ipython3",
   "version": "3.11.11"
  }
 },
 "nbformat": 4,
 "nbformat_minor": 2
}
